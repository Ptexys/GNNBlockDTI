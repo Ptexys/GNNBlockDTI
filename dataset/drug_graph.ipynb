{
 "cells": [
  {
   "cell_type": "code",
   "execution_count": 6,
   "id": "6c332cc9-19ac-48ea-a0f8-7952a5f466b4",
   "metadata": {
    "tags": []
   },
   "outputs": [],
   "source": [
    "import pickle\n",
    "import torch\n",
    "import numpy as np\n",
    "import json\n",
    "from tqdm import tqdm\n",
    "\n",
    "import dgl\n",
    "from rdkit import Chem\n",
    "\n",
    "from tqdm import tqdm"
   ]
  },
  {
   "cell_type": "code",
   "execution_count": 2,
   "id": "1a4592a4-2f10-48b0-8e82-4851f960016a",
   "metadata": {
    "tags": []
   },
   "outputs": [],
   "source": [
    "# one_hot\n",
    "def one_hot(char, dict):  #\n",
    "    \n",
    "    h = torch.zeros(len(dict)+1)\n",
    "    for i in range(len(dict)):\n",
    "        if dict[i] == char:\n",
    "            h[i] = 1\n",
    "            break\n",
    "            \n",
    "        elif i == len(dict)-1:\n",
    "            h[-1] = 1\n",
    "    \n",
    "    return h\n",
    "\n",
    "\n",
    "def smi_2_graph(smi):\n",
    "    \n",
    "    mol = Chem.MolFromSmiles(smi)\n",
    "    nums_atom = mol.GetNumAtoms()\n",
    "    # 边\n",
    "    u, v = [], []\n",
    "    for bond in mol.GetBonds():\n",
    "        begin = bond.GetBeginAtom()\n",
    "        end = bond.GetEndAtom()\n",
    "        u.append(begin.GetIdx())\n",
    "        v.append(end.GetIdx())\n",
    "        \n",
    "    u, v = torch.tensor(u), torch.tensor(v)\n",
    "    g = dgl.graph((u, v))\n",
    "    \n",
    "    #节点特征\n",
    "    feats = []\n",
    "    for atom in mol.GetAtoms():\n",
    "        \n",
    "        feat_0 = one_hot(atom.GetSymbol(), ['C', 'N', 'O', 'S', 'F', 'Si', 'P', 'Cl', 'Br', 'Mg', 'Na','Ca',\n",
    "                                             'Fe', 'As', 'Al', 'I', 'B', 'V', 'K', 'Tl', 'Yb','Sb', 'Sn',\n",
    "                                             'Ag', 'Pd', 'Co', 'Se', 'Ti', 'Zn', 'H','Li', 'Ge', 'Cu', 'Au',\n",
    "                                             'Ni', 'Cd', 'In', 'Mn', 'Zr','Cr', 'Pt', 'Hg', 'Pb'])\n",
    "        feat_1 = one_hot(atom.GetFormalCharge(), [1,2,3,4,5,6,7,8])\n",
    "        feat_2 = one_hot(atom.GetDegree(), [1,2,3,4,5,6,7,8])\n",
    "        feat_3 = torch.tensor([atom.GetIsAromatic()])\n",
    "        feat_4 = torch.tensor([atom.IsInRing()])\n",
    "        \n",
    "        feat = torch.cat([feat_0,feat_1,feat_2,feat_3,feat_4])\n",
    "        \n",
    "        feats.append(feat)\n",
    "        \n",
    "        \n",
    "    feats_1 = torch.cat([feats[idx].unsqueeze(0) for idx in range(len(feats))], 0) #转为tensor\n",
    "    nums_n = min(max(max(u), max(v))+1, nums_atom)  #对齐\n",
    "    feats_2 = feats_1[:nums_n]\n",
    "    bg = dgl.to_bidirected(g) #无向图\n",
    "    bg.ndata['feat'] = feats_2\n",
    "    \n",
    "    return bg"
   ]
  },
  {
   "cell_type": "code",
   "execution_count": 3,
   "id": "94cfad1c-aa36-4ba9-b895-9854f2e8d589",
   "metadata": {
    "tags": []
   },
   "outputs": [],
   "source": [
    "def get_G(ligands):\n",
    "    \n",
    "    XD = {}\n",
    "    for d in tqdm(ligands.keys(), ncols=0):\n",
    "        try:\n",
    "            XD[str(d)] = smi_2_graph(ligands[d])\n",
    "        except:\n",
    "            print(ligands[d])\n",
    "            \n",
    "    return XD"
   ]
  },
  {
   "cell_type": "markdown",
   "id": "2d9fe27a-df83-401e-8cb9-eec1aa7440bf",
   "metadata": {},
   "source": [
    "# BIOSNAP"
   ]
  },
  {
   "cell_type": "code",
   "execution_count": 5,
   "id": "b15e007d-ba4e-4b66-af15-dbb34a77eeb6",
   "metadata": {
    "tags": []
   },
   "outputs": [
    {
     "name": "stdout",
     "output_type": "stream",
     "text": [
      "4510\n"
     ]
    }
   ],
   "source": [
    "with open(\"BIOSNAP/drug_smi_raw.pkl\", \"rb\") as f:\n",
    "    ligands = pickle.load(f)\n",
    "print(len(ligands))"
   ]
  },
  {
   "cell_type": "code",
   "execution_count": null,
   "id": "48ff1ff9-7cea-4c6a-97a7-8ab480ce55a8",
   "metadata": {
    "tags": []
   },
   "outputs": [],
   "source": [
    "XD = get_G(ligands)"
   ]
  },
  {
   "cell_type": "code",
   "execution_count": 9,
   "id": "66f3b0da-29d3-4c5d-bca3-07b8529ef615",
   "metadata": {
    "tags": []
   },
   "outputs": [
    {
     "data": {
      "text/plain": [
       "Graph(num_nodes=18, num_edges=40,\n",
       "      ndata_schemes={'feat': Scheme(shape=(64,), dtype=torch.float32)}\n",
       "      edata_schemes={})"
      ]
     },
     "execution_count": 9,
     "metadata": {},
     "output_type": "execute_result"
    }
   ],
   "source": [
    "list(XD.values())[0]"
   ]
  },
  {
   "cell_type": "code",
   "execution_count": 10,
   "id": "408d5664-bfde-418b-a138-4eaaf90eb895",
   "metadata": {
    "tags": []
   },
   "outputs": [],
   "source": [
    "with open(\"BIOSNAP/drug_graph.pkl\", 'wb') as f:\n",
    "    pickle.dump(XD, f)"
   ]
  },
  {
   "cell_type": "code",
   "execution_count": 4,
   "id": "6ab3f801-d85a-4415-a463-2bb67092f487",
   "metadata": {
    "tags": []
   },
   "outputs": [
    {
     "name": "stdout",
     "output_type": "stream",
     "text": [
      "10636\n"
     ]
    }
   ],
   "source": [
    "with open(\"BDB/drug_smi_raw.pkl\", \"rb\") as f:\n",
    "    ligands = pickle.load(f)\n",
    "print(len(ligands))"
   ]
  },
  {
   "cell_type": "code",
   "execution_count": 5,
   "id": "f589801e-3f30-43fb-91a9-badb9fcc11ef",
   "metadata": {
    "tags": []
   },
   "outputs": [],
   "source": [
    "XD = get_G(ligands)"
   ]
  },
  {
   "cell_type": "code",
   "execution_count": 7,
   "id": "2ab89370-2059-471f-8917-09384dfe5cd8",
   "metadata": {
    "tags": []
   },
   "outputs": [
    {
     "data": {
      "text/plain": [
       "Graph(num_nodes=21, num_edges=44,\n",
       "      ndata_schemes={'feat': Scheme(shape=(64,), dtype=torch.float32)}\n",
       "      edata_schemes={})"
      ]
     },
     "execution_count": 7,
     "metadata": {},
     "output_type": "execute_result"
    }
   ],
   "source": [
    "list(XD.values())[0]"
   ]
  },
  {
   "cell_type": "code",
   "execution_count": 8,
   "id": "8aef08bf-a579-4e78-ac35-5f805114b368",
   "metadata": {
    "tags": []
   },
   "outputs": [
    {
     "data": {
      "text/plain": [
       "10636"
      ]
     },
     "execution_count": 8,
     "metadata": {},
     "output_type": "execute_result"
    }
   ],
   "source": [
    "len(XD)"
   ]
  },
  {
   "cell_type": "code",
   "execution_count": 9,
   "id": "43b55da0-6809-4070-93c6-a3146100c83c",
   "metadata": {
    "tags": []
   },
   "outputs": [],
   "source": [
    "with open(\"BDB/drug_graph.pkl\", 'wb') as f:\n",
    "    pickle.dump(XD, f)"
   ]
  },
  {
   "cell_type": "code",
   "execution_count": null,
   "id": "fb939ce2-f979-4e23-b773-33f7a007a16c",
   "metadata": {},
   "outputs": [],
   "source": []
  }
 ],
 "metadata": {
  "kernelspec": {
   "display_name": "Python 3 (ipykernel)",
   "language": "python",
   "name": "python3"
  },
  "language_info": {
   "codemirror_mode": {
    "name": "ipython",
    "version": 3
   },
   "file_extension": ".py",
   "mimetype": "text/x-python",
   "name": "python",
   "nbconvert_exporter": "python",
   "pygments_lexer": "ipython3",
   "version": "3.8.10"
  }
 },
 "nbformat": 4,
 "nbformat_minor": 5
}
