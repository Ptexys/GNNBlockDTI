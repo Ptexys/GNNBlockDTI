{
 "cells": [
  {
   "cell_type": "code",
   "execution_count": 1,
   "id": "336021b5-9ed5-4ba3-b27e-638642e1ff34",
   "metadata": {
    "tags": []
   },
   "outputs": [],
   "source": [
    "import torch\n",
    "import esm\n",
    "from esm import pretrained\n",
    "import math\n",
    "import numpy as np\n",
    "import matplotlib.pyplot as plt\n",
    "import json, pickle\n",
    "from collections import OrderedDict\n",
    "import os\n",
    "from tqdm import tqdm\n",
    "\n",
    "import dgl\n",
    "import torch"
   ]
  },
  {
   "cell_type": "code",
   "execution_count": 2,
   "id": "7f8ec530-f7ae-4ee7-b02b-97daae12c4a5",
   "metadata": {
    "tags": []
   },
   "outputs": [],
   "source": [
    "# data prepare\n",
    "def protein_graph_construct(proteins, save_dir):\n",
    "    # Load ESM-1b model\n",
    "    # torch.set_grad_enabled(False)\n",
    "    model, alphabet = esm.pretrained.esm1b_t33_650M_UR50S()\n",
    "    batch_converter = alphabet.get_batch_converter()\n",
    "    target_graph = {}\n",
    "\n",
    "    count = 0\n",
    "    key_list=[]\n",
    "    for key in proteins:\n",
    "        key_list.append(key)\n",
    "\n",
    "    device = torch.device(\"cuda:0\")\n",
    "    model.to(device)\n",
    "    for k_i in tqdm(range(len(key_list))):\n",
    "        key=key_list[k_i]\n",
    "        # if len(proteins[key]) < 1500:\n",
    "        #     continue\n",
    "        # print('=============================================')\n",
    "        data = []\n",
    "        pro_id = key\n",
    "        if os.path.exists(save_dir + pro_id + '.npy'):\n",
    "            continue\n",
    "        seq = proteins[key]\n",
    "        if len(seq) <= 1000:\n",
    "            data.append((pro_id, seq))\n",
    "            batch_labels, batch_strs, batch_tokens = batch_converter(data)\n",
    "            with torch.no_grad():\n",
    "                results = model(batch_tokens.to(device), repr_layers=[33], return_contacts=True)\n",
    "            contact_map = results[\"contacts\"][0]\n",
    "            target_graph[pro_id] = contact_map.cpu().numpy()\n",
    "        else:\n",
    "            contact_prob_map = np.zeros((len(seq), len(seq)))  # global contact map prediction\n",
    "            interval = 500\n",
    "            i = math.ceil(len(seq) / interval)\n",
    "            # ======================\n",
    "            # =                    =\n",
    "            # =                    =\n",
    "            # =          ======================\n",
    "            # =          =*********=          =\n",
    "            # =          =*********=          =\n",
    "            # ======================          =\n",
    "            #            =                    =\n",
    "            #            =                    =\n",
    "            #            ======================\n",
    "            # where * is the overlapping area\n",
    "            # subsection seq contact map prediction\n",
    "            for s in range(i):\n",
    "                start = s * interval  # sub seq predict start\n",
    "                end = min((s + 2) * interval, len(seq))  # sub seq predict end\n",
    "                sub_seq_len = end - start\n",
    "\n",
    "                # prediction\n",
    "                temp_seq = seq[start:end]\n",
    "                temp_data = []\n",
    "                temp_data.append((pro_id, temp_seq))\n",
    "                batch_labels, batch_strs, batch_tokens = batch_converter(temp_data)\n",
    "                with torch.no_grad():\n",
    "                    results = model(batch_tokens, repr_layers=[33], return_contacts=True)\n",
    "                # insert into the global contact map\n",
    "                row, col = np.where(contact_prob_map[start:end, start:end] != 0)\n",
    "                row = row + start\n",
    "                col = col + start\n",
    "                contact_prob_map[start:end, start:end] = contact_prob_map[start:end, start:end] + results[\"contacts\"][\n",
    "                    0].numpy()\n",
    "                contact_prob_map[row, col] = contact_prob_map[row, col] / 2.0\n",
    "                if end == len(seq):\n",
    "                    break\n",
    "            target_graph[pro_id] = contact_prob_map\n",
    "\n",
    "        #np.save(save_dir + pro_id + '.npy', target_graph[pro_id])\n",
    "        count += 1\n",
    "        # # for test\n",
    "        # print(count, 'of', len(proteins))\n",
    "        # print('protein id', pro_id)\n",
    "        # print('seq length:', len(seq))\n",
    "        # print(target_graph[pro_id].shape)\n",
    "        # print(len(np.where(target_graph[pro_id] >= 0.5)[0]))\n",
    "        # plt.matshow(target_graph[pro_id][: len(seq), : len(seq)])\n",
    "        # plt.title(pro_id)\n",
    "        # plt.savefig('test/' + pro_id + '.png')\n",
    "        # print('=============================================')\n",
    "    return target_graph"
   ]
  },
  {
   "cell_type": "code",
   "execution_count": 25,
   "id": "213b4889-f16e-4ca3-bbc8-a655ddde2d35",
   "metadata": {
    "tags": []
   },
   "outputs": [],
   "source": [
    "def get_uv(adj):\n",
    "    u, v = [], []\n",
    "    weight = []\n",
    "    m, n = len(adj), len(adj[0])\n",
    "    for i in range(m):\n",
    "        for j in range(n):\n",
    "            if j == i-1 or j == i+1:\n",
    "                u.append(i)\n",
    "                v.append(j)\n",
    "                weight.append(1.0)\n",
    "                continue\n",
    "            if adj[i][j] > 0.5:\n",
    "                u.append(i)\n",
    "                v.append(j)\n",
    "                weight.append(adj[i][j])\n",
    "                \n",
    "    return u, v, weight\n",
    "\n",
    "def sequence_to_graph(data, distance):  #{id:seq}; {id:map}\n",
    "    Gs = dict()\n",
    "    \n",
    "    for id, feats in tqdm(data.items()):\n",
    "        contact_map = distance[id]\n",
    "        u, v, weight = get_uv(contact_map)\n",
    "        g = dgl.graph((u,v))\n",
    "        g.ndata[\"feat\"] = feats\n",
    "        g.edata[\"weight\"] = torch.tensor(weight, dtype=torch.float32)\n",
    "        \n",
    "        Gs[id] = g\n",
    "        \n",
    "    return Gs"
   ]
  },
  {
   "cell_type": "code",
   "execution_count": 3,
   "id": "1cbd9ffc-0666-4639-b2bc-3154f591e534",
   "metadata": {
    "tags": []
   },
   "outputs": [
    {
     "name": "stdout",
     "output_type": "stream",
     "text": [
      "4294\n"
     ]
    }
   ],
   "source": [
    "task = \"BIOSNAP\" \n",
    "with open(f\"{task}/prot_seq_raw.pkl\", 'rb') as f:\n",
    "    prot = pickle.load(f)\n",
    "print(len(Dprot))"
   ]
  },
  {
   "cell_type": "code",
   "execution_count": null,
   "id": "6d9902be-c3a4-4cf3-842d-e51ce2af849f",
   "metadata": {
    "tags": []
   },
   "outputs": [],
   "source": [
    "save_dir = \"prot_graph/\"\n",
    "contace_map = protein_graph_construct(prot, save_dir)\n",
    "list(DTG.values())[0]"
   ]
  },
  {
   "cell_type": "code",
   "execution_count": null,
   "id": "3c65740f-5dd7-45e9-b5be-ff245237d56b",
   "metadata": {},
   "outputs": [],
   "source": [
    "with open(f\"{task}/prot_seq.pkl\", 'rb') as f:\n",
    "    prot_seq = pickle.load(f)\n",
    "print(len(prot_seq))"
   ]
  },
  {
   "cell_type": "code",
   "execution_count": null,
   "id": "04c9dd7c-6d37-4de7-b9b4-f1d49efc68d2",
   "metadata": {},
   "outputs": [],
   "source": [
    "Gs = sequence_to_graph(prot_seq, contace_map)"
   ]
  },
  {
   "cell_type": "code",
   "execution_count": null,
   "id": "4e4dad0a-b0b9-446a-8531-b475915b46e5",
   "metadata": {},
   "outputs": [],
   "source": [
    "with open(f\"{task}/prot_graph.pkl\", 'wb') as f:\n",
    "    pickle.dump(Gs, f)"
   ]
  }
 ],
 "metadata": {
  "kernelspec": {
   "display_name": "Python 3 (ipykernel)",
   "language": "python",
   "name": "python3"
  },
  "language_info": {
   "codemirror_mode": {
    "name": "ipython",
    "version": 3
   },
   "file_extension": ".py",
   "mimetype": "text/x-python",
   "name": "python",
   "nbconvert_exporter": "python",
   "pygments_lexer": "ipython3",
   "version": "3.8.10"
  }
 },
 "nbformat": 4,
 "nbformat_minor": 5
}
