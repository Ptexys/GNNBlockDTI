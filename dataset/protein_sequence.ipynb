{
 "cells": [
  {
   "cell_type": "code",
   "execution_count": 1,
   "id": "c838499d-cd97-447a-bbb8-3f6128ba6189",
   "metadata": {
    "tags": []
   },
   "outputs": [],
   "source": [
    "import transformers\n",
    "from transformers import BertForMaskedLM, BertTokenizer, pipeline\n",
    "import torch\n",
    "import re\n",
    "import math\n",
    "import numpy as np\n",
    "import matplotlib.pyplot as plt\n",
    "import json, pickle\n",
    "from collections import OrderedDict\n",
    "import os\n",
    "from tqdm import tqdm"
   ]
  },
  {
   "cell_type": "code",
   "execution_count": 2,
   "id": "4995553f-0228-4793-85dd-fd0d82050e8a",
   "metadata": {
    "tags": []
   },
   "outputs": [],
   "source": [
    "def get_protbert_embed(data):\n",
    "    embed = dict()\n",
    "    \n",
    "    device = torch.device('cuda:0' if torch.cuda.is_available() else 'cpu')\n",
    "    tokenizer = BertTokenizer.from_pretrained('prot_bert_bfd', do_lower_case=False )\n",
    "    model = BertForMaskedLM.from_pretrained(\"prot_bert_bfd\").to(device)\n",
    "    \n",
    "    for id, seq in tqdm(data.items(), ncols=0):\n",
    "        seq1 = \" \".join(list(re.sub(r\"[UZOB]\", \"X\", seq)))\n",
    "        \n",
    "        ids = tokenizer(seq1, return_tensors='pt')\n",
    "        input_ids = torch.tensor(ids['input_ids']).to(device)\n",
    "        attention_mask = torch.tensor(ids['attention_mask']).to(device)\n",
    "        \n",
    "        with torch.no_grad():\n",
    "            output = model(input_ids=input_ids, attention_mask=attention_mask)\n",
    "            \n",
    "        output1 = output[0][0][1: -1]\n",
    "        assert len(seq) == len(output1)\n",
    "        \n",
    "        embed[id] = output1.cpu()\n",
    "        \n",
    "    return embed"
   ]
  },
  {
   "cell_type": "code",
   "execution_count": 32,
   "id": "0639970d-1941-4d1b-880a-57af266227fd",
   "metadata": {
    "tags": []
   },
   "outputs": [],
   "source": [
    "def padding(data, maxlen):\n",
    "    data_new = dict()\n",
    "    \n",
    "    for id, vec in tqdm(data.items(), ncols=0):\n",
    "        vec_new = torch.zeros((maxlen, vec.shape[1]), dtype=torch.float32)\n",
    "        if vec.shape[0] < maxlen:\n",
    "            vec_new[:vec.shape[0]] = vec[:]\n",
    "        else:\n",
    "            vec_new[:] = vec[:maxlen]\n",
    "            \n",
    "        data_new[id] = vec_new\n",
    "        \n",
    "    return data_new"
   ]
  },
  {
   "cell_type": "code",
   "execution_count": 29,
   "id": "420ecc00-b605-41b1-8355-8f22cb17e176",
   "metadata": {
    "tags": []
   },
   "outputs": [],
   "source": [
    "def len_static(data):\n",
    "    ls = []\n",
    "    for p in data.values():\n",
    "        ls.append(len(p))\n",
    "        \n",
    "    plt.figure(figsize=(6,4))\n",
    "    plt.hist(ls, bins=20, range=[0,2000], cumulative=False, rwidth=1, color='c', edgecolor='k')\n",
    "    plt.xlabel(\"length of protein sequences\")\n",
    "    plt.ylabel(\"number of proteins\")\n",
    "    plt.tick_params(direction=\"in\")\n",
    "    plt.show()\n",
    "    \n",
    "    print(\"80% of protein-length: \", np.percentile(ls, 80))\n",
    "    print(\"85% of protein-length: \", np.percentile(ls, 85))\n",
    "    print(\"90% of protein-length: \", np.percentile(ls, 90))"
   ]
  },
  {
   "cell_type": "code",
   "execution_count": 20,
   "id": "64215ee0-4c00-4d50-a045-7f65c6ff5e2d",
   "metadata": {
    "tags": []
   },
   "outputs": [
    {
     "name": "stdout",
     "output_type": "stream",
     "text": [
      "442\n"
     ]
    }
   ],
   "source": [
    "Dpath = \"/root/autodl-tmp/MSF-DTA/data/davis/\"\n",
    "Dproteins = json.load(open(Dpath + \"proteins.txt\"), object_pairs_hook=OrderedDict)\n",
    "print(len(Dproteins))"
   ]
  },
  {
   "cell_type": "code",
   "execution_count": 55,
   "id": "850e0b68-705e-4f3e-9279-3e29574a63e1",
   "metadata": {
    "tags": []
   },
   "outputs": [
    {
     "name": "stderr",
     "output_type": "stream",
     "text": [
      "Some weights of the model checkpoint at prot_bert_bfd were not used when initializing BertForMaskedLM: ['bert.pooler.dense.bias', 'bert.pooler.dense.weight', 'cls.seq_relationship.bias', 'cls.seq_relationship.weight']\n",
      "- This IS expected if you are initializing BertForMaskedLM from the checkpoint of a model trained on another task or with another architecture (e.g. initializing a BertForSequenceClassification model from a BertForPreTraining model).\n",
      "- This IS NOT expected if you are initializing BertForMaskedLM from the checkpoint of a model that you expect to be exactly identical (initializing a BertForSequenceClassification model from a BertForSequenceClassification model).\n",
      "  0% 0/442 [00:00<?, ?it/s]/tmp/ipykernel_912/1158121745.py:12: UserWarning: To copy construct from a tensor, it is recommended to use sourceTensor.clone().detach() or sourceTensor.clone().detach().requires_grad_(True), rather than torch.tensor(sourceTensor).\n",
      "  input_ids = torch.tensor(ids['input_ids']).to(device)\n",
      "/tmp/ipykernel_912/1158121745.py:13: UserWarning: To copy construct from a tensor, it is recommended to use sourceTensor.clone().detach() or sourceTensor.clone().detach().requires_grad_(True), rather than torch.tensor(sourceTensor).\n",
      "  attention_mask = torch.tensor(ids['attention_mask']).to(device)\n",
      "100% 442/442 [00:43<00:00, 10.05it/s]\n"
     ]
    },
    {
     "data": {
      "text/plain": [
       "torch.Size([961, 30])"
      ]
     },
     "execution_count": 55,
     "metadata": {},
     "output_type": "execute_result"
    }
   ],
   "source": [
    "Dembed = get_protbert_embed(Dproteins)\n",
    "list(Dembed.values())[0].shape"
   ]
  },
  {
   "cell_type": "code",
   "execution_count": 56,
   "id": "74931a61-3781-433c-8f19-fe40e3c0a617",
   "metadata": {
    "tags": []
   },
   "outputs": [
    {
     "data": {
      "text/plain": [
       "tensor([[-23.0457, -23.6379, -22.7217, -28.8316, -23.0831,   0.7845,   0.2241,\n",
       "          -0.1381,  -0.0830,  -0.9259,   0.0826,  -0.3770,  -0.5627,  -0.1435,\n",
       "          -1.2376,  -0.7011,  -0.2403,  -1.0371,  -0.1409,   0.2140,  -1.3304,\n",
       "           7.8041,  -1.3169,  -1.6533,  -1.9126,  -4.4924, -24.3929, -23.1126,\n",
       "         -24.2497, -24.6276]])"
      ]
     },
     "execution_count": 56,
     "metadata": {},
     "output_type": "execute_result"
    }
   ],
   "source": [
    "list(Dembed.values())[0][:1]"
   ]
  },
  {
   "cell_type": "code",
   "execution_count": 57,
   "id": "239c0d70-c554-4e8e-b8c3-158e36c5c832",
   "metadata": {
    "tags": []
   },
   "outputs": [],
   "source": [
    "with open(\"/root/autodl-tmp/Davis/Data/prot_seq_pb.pkl\", 'wb') as f:\n",
    "    pickle.dump(Dembed, f)"
   ]
  },
  {
   "cell_type": "code",
   "execution_count": 58,
   "id": "63ff1f6a-0b28-465d-aba7-feb20d82c745",
   "metadata": {
    "tags": []
   },
   "outputs": [
    {
     "name": "stdout",
     "output_type": "stream",
     "text": [
      "229\n"
     ]
    }
   ],
   "source": [
    "Kpath = \"/root/autodl-tmp/MSF-DTA/data/kiba/\"\n",
    "Kproteins = json.load(open(Kpath + \"proteins.txt\"), object_pairs_hook=OrderedDict)\n",
    "print(len(Kproteins))"
   ]
  },
  {
   "cell_type": "code",
   "execution_count": 59,
   "id": "cee5420f-c17d-40cd-812d-4a77bc2d4443",
   "metadata": {
    "tags": []
   },
   "outputs": [
    {
     "name": "stderr",
     "output_type": "stream",
     "text": [
      "Some weights of the model checkpoint at prot_bert_bfd were not used when initializing BertForMaskedLM: ['bert.pooler.dense.bias', 'bert.pooler.dense.weight', 'cls.seq_relationship.bias', 'cls.seq_relationship.weight']\n",
      "- This IS expected if you are initializing BertForMaskedLM from the checkpoint of a model trained on another task or with another architecture (e.g. initializing a BertForSequenceClassification model from a BertForPreTraining model).\n",
      "- This IS NOT expected if you are initializing BertForMaskedLM from the checkpoint of a model that you expect to be exactly identical (initializing a BertForSequenceClassification model from a BertForSequenceClassification model).\n",
      "  0% 0/229 [00:00<?, ?it/s]/tmp/ipykernel_912/1158121745.py:12: UserWarning: To copy construct from a tensor, it is recommended to use sourceTensor.clone().detach() or sourceTensor.clone().detach().requires_grad_(True), rather than torch.tensor(sourceTensor).\n",
      "  input_ids = torch.tensor(ids['input_ids']).to(device)\n",
      "/tmp/ipykernel_912/1158121745.py:13: UserWarning: To copy construct from a tensor, it is recommended to use sourceTensor.clone().detach() or sourceTensor.clone().detach().requires_grad_(True), rather than torch.tensor(sourceTensor).\n",
      "  attention_mask = torch.tensor(ids['attention_mask']).to(device)\n",
      "100% 229/229 [00:21<00:00, 10.81it/s]\n"
     ]
    },
    {
     "data": {
      "text/plain": [
       "torch.Size([431, 30])"
      ]
     },
     "execution_count": 59,
     "metadata": {},
     "output_type": "execute_result"
    }
   ],
   "source": [
    "Kembed = get_protbert_embed(Kproteins)\n",
    "list(Kembed.values())[0].shape"
   ]
  },
  {
   "cell_type": "code",
   "execution_count": 60,
   "id": "752cb399-f799-4d9f-8e98-8ab67ba0a2aa",
   "metadata": {
    "tags": []
   },
   "outputs": [
    {
     "data": {
      "text/plain": [
       "(tensor([[-2.2707e+01, -2.3514e+01, -2.2063e+01, -2.9962e+01, -2.3004e+01,\n",
       "           9.3059e-01,  3.4273e-01, -3.4252e-01,  3.3305e-01,  1.5587e-01,\n",
       "           5.9936e-01, -2.8438e-02,  7.4587e-01,  1.4394e-01, -4.6985e-01,\n",
       "           9.1295e-02,  1.1490e-01, -3.0942e-01,  3.1782e-01,  1.3748e-01,\n",
       "          -1.1523e+00,  5.5826e+00, -1.0576e+00, -1.1791e+00, -1.1001e+00,\n",
       "          -5.5739e+00, -2.3836e+01, -2.2678e+01, -2.3725e+01, -2.3921e+01]]),\n",
       " 229)"
      ]
     },
     "execution_count": 60,
     "metadata": {},
     "output_type": "execute_result"
    }
   ],
   "source": [
    "list(Kembed.values())[0][:1], len(Kembed)"
   ]
  },
  {
   "cell_type": "code",
   "execution_count": 61,
   "id": "859ae3e1-574a-4cc4-ac49-96a3d9d0f72d",
   "metadata": {
    "tags": []
   },
   "outputs": [],
   "source": [
    "with open(\"/root/autodl-tmp/KIBA/Data/prot_seq_pb.pkl\", 'wb') as f:\n",
    "    pickle.dump(Kembed, f)"
   ]
  },
  {
   "cell_type": "code",
   "execution_count": 3,
   "id": "571838a9-06c7-4fa2-9f50-ebf727b811c2",
   "metadata": {
    "tags": []
   },
   "outputs": [
    {
     "name": "stdout",
     "output_type": "stream",
     "text": [
      "835\n"
     ]
    }
   ],
   "source": [
    "Hpath = \"/root/autodl-tmp/Human/prot_seq_raw.pkl\"\n",
    "with open(Hpath, 'rb') as f:\n",
    "    Hprot = pickle.load(f)\n",
    "print(len(Hprot))"
   ]
  },
  {
   "cell_type": "code",
   "execution_count": 4,
   "id": "c36b4d23-154b-4347-9005-c4a2373f4358",
   "metadata": {
    "tags": []
   },
   "outputs": [
    {
     "name": "stderr",
     "output_type": "stream",
     "text": [
      "/root/miniconda3/lib/python3.8/site-packages/torch/_utils.py:776: UserWarning: TypedStorage is deprecated. It will be removed in the future and UntypedStorage will be the only storage class. This should only matter to you if you are using storages directly.  To access UntypedStorage directly, use tensor.untyped_storage() instead of tensor.storage()\n",
      "  return self.fget.__get__(instance, owner)()\n",
      "Some weights of the model checkpoint at prot_bert_bfd were not used when initializing BertForMaskedLM: ['bert.pooler.dense.bias', 'bert.pooler.dense.weight', 'cls.seq_relationship.bias', 'cls.seq_relationship.weight']\n",
      "- This IS expected if you are initializing BertForMaskedLM from the checkpoint of a model trained on another task or with another architecture (e.g. initializing a BertForSequenceClassification model from a BertForPreTraining model).\n",
      "- This IS NOT expected if you are initializing BertForMaskedLM from the checkpoint of a model that you expect to be exactly identical (initializing a BertForSequenceClassification model from a BertForSequenceClassification model).\n",
      "  0% 0/835 [00:00<?, ?it/s]/tmp/ipykernel_807/1158121745.py:12: UserWarning: To copy construct from a tensor, it is recommended to use sourceTensor.clone().detach() or sourceTensor.clone().detach().requires_grad_(True), rather than torch.tensor(sourceTensor).\n",
      "  input_ids = torch.tensor(ids['input_ids']).to(device)\n",
      "/tmp/ipykernel_807/1158121745.py:13: UserWarning: To copy construct from a tensor, it is recommended to use sourceTensor.clone().detach() or sourceTensor.clone().detach().requires_grad_(True), rather than torch.tensor(sourceTensor).\n",
      "  attention_mask = torch.tensor(ids['attention_mask']).to(device)\n",
      "  0% 1/835 [00:00<11:40,  1.19it/s]/tmp/ipykernel_807/1158121745.py:12: UserWarning: To copy construct from a tensor, it is recommended to use sourceTensor.clone().detach() or sourceTensor.clone().detach().requires_grad_(True), rather than torch.tensor(sourceTensor).\n",
      "  input_ids = torch.tensor(ids['input_ids']).to(device)\n",
      "/tmp/ipykernel_807/1158121745.py:13: UserWarning: To copy construct from a tensor, it is recommended to use sourceTensor.clone().detach() or sourceTensor.clone().detach().requires_grad_(True), rather than torch.tensor(sourceTensor).\n",
      "  attention_mask = torch.tensor(ids['attention_mask']).to(device)\n",
      "100% 835/835 [01:17<00:00, 10.83it/s]\n"
     ]
    },
    {
     "data": {
      "text/plain": [
       "torch.Size([432, 30])"
      ]
     },
     "execution_count": 4,
     "metadata": {},
     "output_type": "execute_result"
    }
   ],
   "source": [
    "Hembed = get_protbert_embed(Hprot)\n",
    "list(Hembed.values())[0].shape"
   ]
  },
  {
   "cell_type": "code",
   "execution_count": 6,
   "id": "be36ca9a-94bc-4a0a-867b-2ee079c9f6ad",
   "metadata": {
    "tags": []
   },
   "outputs": [
    {
     "data": {
      "text/plain": [
       "(tensor([[-23.2703, -23.2235, -21.7934, -29.0156, -22.5568,   0.2906,  -0.1673,\n",
       "           -0.6463,   0.2906,  -0.7277,   0.1577,  -1.0553,   0.0311,  -0.3571,\n",
       "           -0.6856,  -0.2059,  -1.0176,   0.2099,  -0.6271,  -1.5551,  -2.0911,\n",
       "           10.1277,  -2.0527,  -2.4783,  -3.4610,  -4.5400, -24.6398, -22.4819,\n",
       "          -24.1878, -23.8809]]),\n",
       " 835)"
      ]
     },
     "execution_count": 6,
     "metadata": {},
     "output_type": "execute_result"
    }
   ],
   "source": [
    "list(Hembed.values())[0][:1], len(Hembed)"
   ]
  },
  {
   "cell_type": "code",
   "execution_count": 35,
   "id": "018a4605-4d7c-4aa9-94b7-880ddffa74e7",
   "metadata": {
    "tags": []
   },
   "outputs": [],
   "source": [
    "with open(\"/root/autodl-tmp/Human/prot_seq_pb.pkl\", 'wb') as f:\n",
    "    pickle.dump(Hembed, f)"
   ]
  },
  {
   "cell_type": "code",
   "execution_count": 30,
   "id": "ec123e33-19b9-4283-8233-7bd82fc4eaca",
   "metadata": {
    "tags": []
   },
   "outputs": [
    {
     "data": {
      "image/png": "[encoded data removed]",
      "text/plain": [
       "<Figure size 600x400 with 1 Axes>"
      ]
     },
     "metadata": {},
     "output_type": "display_data"
    },
    {
     "name": "stdout",
     "output_type": "stream",
     "text": [
      "80% of protein-length:  924.2\n",
      "85% of protein-length:  1046.6\n",
      "90% of protein-length:  1263.8000000000004\n"
     ]
    }
   ],
   "source": [
    "len_static(Hprot)"
   ]
  },
  {
   "cell_type": "raw",
   "id": "74626c15-e957-4420-998c-b1f38707e965",
   "metadata": {
    "tags": []
   },
   "source": [
    "Human 蛋白填充长度确定为1000"
   ]
  },
  {
   "cell_type": "code",
   "execution_count": 33,
   "id": "9ce6f0b9-3318-4cae-aac8-d5b0b459eb26",
   "metadata": {
    "tags": []
   },
   "outputs": [
    {
     "name": "stderr",
     "output_type": "stream",
     "text": [
      "100% 835/835 [00:00<00:00, 11433.40it/s]\n"
     ]
    },
    {
     "data": {
      "text/plain": [
       "torch.Size([1000, 30])"
      ]
     },
     "execution_count": 33,
     "metadata": {},
     "output_type": "execute_result"
    }
   ],
   "source": [
    "Hembed1 = padding(Hembed, maxlen=1000)\n",
    "list(Hembed1.values())[0].shape"
   ]
  },
  {
   "cell_type": "code",
   "execution_count": 34,
   "id": "e32f9342-47ce-469d-87be-76d745d0f602",
   "metadata": {
    "tags": []
   },
   "outputs": [],
   "source": [
    "with open(\"/root/autodl-tmp/Human/prot_seq_pb1.pkl\", 'wb') as f:\n",
    "    pickle.dump(Hembed1, f)"
   ]
  },
  {
   "cell_type": "code",
   "execution_count": null,
   "id": "63530521-b949-45b1-83eb-d300e117723f",
   "metadata": {
    "tags": []
   },
   "outputs": [],
   "source": [
    "task = \"BIOSNAP\"\n",
    "with open(f\"{task}/prot_seq_raw.pkl\", 'rb') as f:\n",
    "    prot = pickle.load(f)\n",
    "print(len(prot))"
   ]
  },
  {
   "cell_type": "code",
   "execution_count": null,
   "id": "db3cb8d4-8ec5-41a9-994d-215a5e017fa5",
   "metadata": {
    "tags": []
   },
   "outputs": [],
   "source": [
    "embed = get_protbert_embed(prot)\n",
    "list(embed.values())[0].shape"
   ]
  },
  {
   "cell_type": "code",
   "execution_count": 40,
   "id": "41a28e34-2bc9-4ec9-aa91-1ba303872bfd",
   "metadata": {
    "tags": []
   },
   "outputs": [
    {
     "data": {
      "image/png": "[encoded data removed]",
      "text/plain": [
       "<Figure size 600x400 with 1 Axes>"
      ]
     },
     "metadata": {},
     "output_type": "display_data"
    },
    {
     "name": "stdout",
     "output_type": "stream",
     "text": [
      "80% of protein-length:  648.4000000000001\n",
      "85% of protein-length:  739.0\n",
      "90% of protein-length:  875.0\n"
     ]
    }
   ],
   "source": [
    "len_static(Bprot)"
   ]
  },
  {
   "cell_type": "code",
   "execution_count": null,
   "id": "16075e9b-e957-4eb2-85c2-46beeee92a1c",
   "metadata": {
    "tags": []
   },
   "outputs": [],
   "source": [
    "embed1 = padding(embed, maxlen=750)\n",
    "list(embed1.values())[0].shape"
   ]
  },
  {
   "cell_type": "code",
   "execution_count": 42,
   "id": "fc6ef202-6957-4170-abd2-174e7a375899",
   "metadata": {
    "tags": []
   },
   "outputs": [],
   "source": [
    "with open(f\"{task}/prot_seq.pkl\", 'wb') as f:\n",
    "    pickle.dump(embed1, f)"
   ]
  }
 ],
 "metadata": {
  "kernelspec": {
   "display_name": "Python 3 (ipykernel)",
   "language": "python",
   "name": "python3"
  },
  "language_info": {
   "codemirror_mode": {
    "name": "ipython",
    "version": 3
   },
   "file_extension": ".py",
   "mimetype": "text/x-python",
   "name": "python",
   "nbconvert_exporter": "python",
   "pygments_lexer": "ipython3",
   "version": "3.8.10"
  }
 },
 "nbformat": 4,
 "nbformat_minor": 5
}
